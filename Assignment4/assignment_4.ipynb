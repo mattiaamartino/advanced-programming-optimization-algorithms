{
 "cells": [
  {
   "cell_type": "code",
   "execution_count": 1,
   "metadata": {},
   "outputs": [],
   "source": [
    "import cvxpy as cp\n",
    "import cvxopt\n",
    "import numpy as np\n",
    "import clarabel\n",
    "import mosek\n",
    "import xpress\n",
    "import cylp\n",
    "import cplex\n",
    "import sdpap\n",
    "import pyscipopt\n"
   ]
  },
  {
   "attachments": {},
   "cell_type": "markdown",
   "metadata": {},
   "source": [
    "### Data"
   ]
  },
  {
   "cell_type": "code",
   "execution_count": 2,
   "metadata": {},
   "outputs": [],
   "source": [
    "a=[0.5, -0.5, 0.2, -0.7, 0.6, -0.2, 0.7, -0.5, 0.8, -0.4]\n",
    "l=[40, 20, 40, 40, 20, 40, 30, 40, 30, 60]\n",
    "Preq=np.arange(a[0],a[0]*(l[0]+0.5),a[0])\n",
    "for i in range(1, len(l)):\n",
    "    Preq=np.r_[ Preq, np.arange(Preq[-1]+a[i],Preq[-1]+a[i]*(l[i]+0.5),a[i]) ]\n",
    "\n",
    "T = sum(l)\n",
    "\n",
    "Peng_max = 20.0\n",
    "Pmg_min = -6.0\n",
    "Pmg_max = 6.0\n",
    "eta = 0.1\n",
    "gamma = 0.1"
   ]
  },
  {
   "attachments": {},
   "cell_type": "markdown",
   "metadata": {},
   "source": [
    "### Car with battery"
   ]
  },
  {
   "cell_type": "code",
   "execution_count": 3,
   "metadata": {},
   "outputs": [],
   "source": [
    "Ebatt_max = 100.0\n",
    "Peng = cp.Variable(T)\n",
    "Pmg = cp.Variable(T)\n",
    "Pbr = cp.Variable(T)\n",
    "Ebatt = cp.Variable(T+1)"
   ]
  },
  {
   "cell_type": "code",
   "execution_count": 4,
   "metadata": {},
   "outputs": [],
   "source": [
    "constraints = []\n",
    "obj = 0\n",
    "\n",
    "constraints += [Ebatt[T] == Ebatt[0]]\n",
    "for t in range(T):\n",
    "    constraints += ([Preq[t] == Peng[t] + Pmg[t] - Pbr[t], 0 <= Peng[t], Peng[t] <= Peng_max, Pmg_min <= Pmg[t], Pmg[t] <= Pmg_max, Pbr[t] >= 0, \n",
    "                    0 <= Ebatt[t], Ebatt[t] <= Ebatt_max, eta*Pmg[t] >= -Ebatt[t] + Pmg[t] + Ebatt[t+1],\n",
    "                    eta*Pmg[t] <= -Ebatt[t+1] - Pmg[t] +Ebatt[t]])\n",
    "    \n",
    "    obj += cp.sum(Peng[t] + gamma*(Peng[t]**2))"
   ]
  },
  {
   "cell_type": "code",
   "execution_count": 5,
   "metadata": {},
   "outputs": [
    {
     "name": "stdout",
     "output_type": "stream",
     "text": [
      "task 1: 5077.525371239874\n"
     ]
    }
   ],
   "source": [
    "prob = cp.Problem(cp.Minimize(obj), constraints)\n",
    "status = prob.solve()\n",
    "print(f\"task 1: {prob.value}\")"
   ]
  },
  {
   "attachments": {},
   "cell_type": "markdown",
   "metadata": {},
   "source": [
    "### Car with no battery"
   ]
  },
  {
   "cell_type": "code",
   "execution_count": 6,
   "metadata": {},
   "outputs": [],
   "source": [
    "Ebatt_max = 0.0\n",
    "Peng = cp.Variable(T)\n",
    "Pmg = cp.Variable(T)\n",
    "Pbr = cp.Variable(T)\n",
    "Ebatt = cp.Variable(T+1)"
   ]
  },
  {
   "cell_type": "code",
   "execution_count": 7,
   "metadata": {},
   "outputs": [],
   "source": [
    "constraints = []\n",
    "obj = 0\n",
    "\n",
    "constraints += [Ebatt[T] == Ebatt[0]]\n",
    "for t in range(T):\n",
    "    constraints += ([Preq[t] == Peng[t] + Pmg[t] - Pbr[t], 0 <= Peng[t], Peng[t] <= Peng_max, Pmg_min <= Pmg[t], Pmg[t] <= Pmg_max, Pbr[t] >= 0, \n",
    "                    0 <= Ebatt[t], Ebatt[t] <= Ebatt_max, eta*Pmg[t] >= -Ebatt[t] + Pmg[t] + Ebatt[t+1],\n",
    "                    eta*Pmg[t] <= -Ebatt[t+1] - Pmg[t] +Ebatt[t]])\n",
    "    \n",
    "    obj += cp.sum(Peng[t] + gamma*(Peng[t]**2))"
   ]
  },
  {
   "cell_type": "code",
   "execution_count": 8,
   "metadata": {},
   "outputs": [
    {
     "name": "stdout",
     "output_type": "stream",
     "text": [
      "task 2: 5896.808990170339\n"
     ]
    }
   ],
   "source": [
    "prob = cp.Problem(cp.Minimize(obj), constraints)\n",
    "status = prob.solve()\n",
    "print(f\"task 2: {prob.value}\")"
   ]
  },
  {
   "attachments": {},
   "cell_type": "markdown",
   "metadata": {},
   "source": [
    "### Version with general solving function"
   ]
  },
  {
   "cell_type": "code",
   "execution_count": 9,
   "metadata": {},
   "outputs": [],
   "source": [
    "a=[0.5, -0.5, 0.2, -0.7, 0.6, -0.2, 0.7, -0.5, 0.8, -0.4]\n",
    "l=[40, 20, 40, 40, 20, 40, 30, 40, 30, 60]\n",
    "Preq=np.arange(a[0],a[0]*(l[0]+0.5),a[0])\n",
    "for i in range(1, len(l)):\n",
    "    Preq=np.r_[ Preq, np.arange(Preq[-1]+a[i],Preq[-1]+a[i]*(l[i]+0.5),a[i]) ]\n",
    "\n",
    "T = sum(l)\n",
    "\n",
    "Peng_max = 20.0\n",
    "Pmg_min = -6.0\n",
    "Pmg_max = 6.0\n",
    "eta = 0.1\n",
    "gamma = 0.1\n",
    "Ebatt_max = 100.0"
   ]
  },
  {
   "cell_type": "code",
   "execution_count": 69,
   "metadata": {},
   "outputs": [],
   "source": [
    "def general_solver(E_max):\n",
    "\n",
    "    Peng = cp.Variable(T)\n",
    "    Pmg = cp.Variable(T)\n",
    "    Pbr = cp.Variable(T)\n",
    "    Ebatt = cp.Variable(T+1)\n",
    "\n",
    "    constraints = []\n",
    "    obj = 0\n",
    "\n",
    "    constraints += [Ebatt[T] == Ebatt[0]]\n",
    "    for t in range(T):\n",
    "        constraints += ([Preq[t] == Peng[t] + Pmg[t] - Pbr[t], 0 <= Peng[t], Peng[t] <= Peng_max, Pmg_min <= Pmg[t], Pmg[t] <= Pmg_max, Pbr[t] >= 0, \n",
    "                        0 <= Ebatt[t], Ebatt[t] <= E_max, eta*Pmg[t] >= -Ebatt[t] + Pmg[t] + Ebatt[t+1],\n",
    "                        eta*Pmg[t] <= -Ebatt[t+1] - Pmg[t] +Ebatt[t]])\n",
    "        \n",
    "        obj += cp.sum(Peng[t] + gamma*(Peng[t]**2))\n",
    "\n",
    "    prob = cp.Problem(cp.Minimize(obj), constraints)\n",
    "    status = prob.solve(solver=\"OSQP\", eps_rel=1e-7, eps_abs=1e-7)\n",
    "    retval = {}\n",
    "    retval[\"Peng\"] = list(Peng.value)\n",
    "    retval[\"Pmg\"] = list(Pmg.value)\n",
    "    retval[\"Pbr\"] = list(Pbr.value)\n",
    "    retval[\"E\"] = list(Ebatt.value)\n",
    "    return retval, prob.objective.value\n",
    "\n",
    "def general_solver_glitch(E_max):\n",
    "\n",
    "    Peng = cp.Variable(T)\n",
    "    Pmg = cp.Variable(T)\n",
    "    Pbr = cp.Variable(T)\n",
    "    Ebatt = cp.Variable(T+1)\n",
    "    eps = 1e-5\n",
    "\n",
    "\n",
    "    constraints = []\n",
    "    obj = 0\n",
    "\n",
    "    constraints += [Ebatt[T] == Ebatt[0]]\n",
    "    for t in range(T):\n",
    "        constraints += ([Preq[t] == Peng[t] + Pmg[t] - Pbr[t], 0 <= Peng[t], Peng[t] <= Peng_max, Pmg_min <= Pmg[t], Pmg[t] <= Pmg_max, Pbr[t] >= 0, \n",
    "                        0 <= Ebatt[t], Ebatt[t] <= E_max, eta*Pmg[t] >= -Ebatt[t] + Pmg[t] + Ebatt[t+1],\n",
    "                        eta*Pmg[t] <= -Ebatt[t+1] - Pmg[t] +Ebatt[t]])\n",
    "        \n",
    "        obj += cp.sum(Peng[t] + gamma*(Peng[t]**2) + eps*cp.maximum(0, -Pmg[t]))\n",
    "\n",
    "    prob = cp.Problem(cp.Minimize(obj), constraints)\n",
    "    status = prob.solve(solver='OSQP', eps_rel=1e-7, eps_abs=1e-7)\n",
    "    retval = {}\n",
    "    retval[\"Peng\"] = list(Peng.value)\n",
    "    retval[\"Pmg\"] = list(Pmg.value)\n",
    "    retval[\"Pbr\"] = list(Pbr.value)\n",
    "    retval[\"E\"] = list(Ebatt.value)\n",
    "\n",
    "    return retval, prob.objective.value\n",
    "    "
   ]
  },
  {
   "cell_type": "code",
   "execution_count": 11,
   "metadata": {},
   "outputs": [],
   "source": [
    "# print(f\"Task 1: {general_solver(Ebatt_max)}\", f\"Task 2: {general_solver(0)}\", sep=\"\\n\")"
   ]
  },
  {
   "attachments": {},
   "cell_type": "markdown",
   "metadata": {},
   "source": [
    "### Handling glitches"
   ]
  },
  {
   "cell_type": "code",
   "execution_count": 60,
   "metadata": {},
   "outputs": [],
   "source": [
    "def general_solver_glitch(E_max):\n",
    "\n",
    "    Peng = cp.Variable(T)\n",
    "    Pmg = cp.Variable(T)\n",
    "    Pbr = cp.Variable(T)\n",
    "    Ebatt = cp.Variable(T+1)\n",
    "    eps = 1e-3\n",
    "\n",
    "\n",
    "    constraints = []\n",
    "    obj = 0\n",
    "\n",
    "    constraints += [Ebatt[T] == Ebatt[0]]\n",
    "    for t in range(T):\n",
    "        constraints += ([Preq[t] == Peng[t] + Pmg[t] - Pbr[t], 0 <= Peng[t], Peng[t] <= Peng_max, Pmg_min <= Pmg[t], Pmg[t] <= Pmg_max, Pbr[t] >= 0, \n",
    "                        0 <= Ebatt[t], Ebatt[t] <= E_max, eta*Pmg[t] >= -Ebatt[t] + Pmg[t] + Ebatt[t+1],\n",
    "                        eta*Pmg[t] <= -Ebatt[t+1] - Pmg[t] +Ebatt[t]])\n",
    "        \n",
    "        obj += cp.sum(Peng[t] + gamma*(Peng[t]**2) + eps*cp.maximum(0, -Pmg[t]))\n",
    "\n",
    "    prob = cp.Problem(cp.Minimize(obj), constraints)\n",
    "    status = prob.solve(solver='OSQP', eps_abs=1e-6, eps_rel=1e-6)\n",
    "    print(prob.objective.value)\n",
    "    retval = {}\n",
    "    retval[\"Peng\"] = list(Peng.value)\n",
    "    retval[\"Pmg\"] = list(Pmg.value)\n",
    "    retval[\"Pbr\"] = list(Pbr.value)\n",
    "    retval[\"E\"] = list(Ebatt.value)\n",
    "\n",
    "    return retval"
   ]
  }
 ],
 "metadata": {
  "kernelspec": {
   "display_name": "APOA",
   "language": "python",
   "name": "python3"
  },
  "language_info": {
   "codemirror_mode": {
    "name": "ipython",
    "version": 3
   },
   "file_extension": ".py",
   "mimetype": "text/x-python",
   "name": "python",
   "nbconvert_exporter": "python",
   "pygments_lexer": "ipython3",
   "version": "3.10.9"
  },
  "orig_nbformat": 4
 },
 "nbformat": 4,
 "nbformat_minor": 2
}
