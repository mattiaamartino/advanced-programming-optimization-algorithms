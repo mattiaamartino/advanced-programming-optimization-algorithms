{
 "cells": [
  {
   "attachments": {},
   "cell_type": "markdown",
   "metadata": {},
   "source": [
    "# Assignement 2"
   ]
  },
  {
   "cell_type": "code",
   "execution_count": 1,
   "metadata": {},
   "outputs": [],
   "source": [
    "import networkx as nx\n",
    "import numpy as np\n",
    "# import matplotlib.pyplot as plt\n",
    "# %matplotlib inline"
   ]
  },
  {
   "cell_type": "code",
   "execution_count": 2,
   "metadata": {},
   "outputs": [],
   "source": [
    "# Create an array with all the \"bytes\" in the files\n",
    "files = [open(f\"P{n}.txt\", 'r') for n in range(16)]\n",
    "\n",
    "byte = list()\n",
    "for file in files:\n",
    "    rows = list()\n",
    "    for row in file:\n",
    "        if row == '\\n':               \n",
    "            continue\n",
    "        rows.append([int(x) for x in list(row)[:len(row)-1]])\n",
    "    byte.append(rows)"
   ]
  },
  {
   "cell_type": "code",
   "execution_count": 3,
   "metadata": {},
   "outputs": [],
   "source": [
    "# Normalize the images\n",
    "normalized = list()\n",
    "for m in byte:\n",
    "    s = 0\n",
    "    for row in m:\n",
    "        s += sum(row)\n",
    "    if s == 80:\n",
    "        normalized.append([i*39 for i in m])\n",
    "    elif s == 39:\n",
    "        normalized.append([i*80 for i in m])"
   ]
  },
  {
   "cell_type": "code",
   "execution_count": 4,
   "metadata": {},
   "outputs": [],
   "source": [
    "# Create all the graphs\n",
    "graphs = {}\n",
    "for i in range(16):\n",
    "    DG = nx.DiGraph()\n",
    "    for j in range(10):\n",
    "        for k in range(80):\n",
    "            DG.add_node((f\"{i}\", j+1, k+1), id=normalized[i][j][k])\n",
    "    graphs[i] = DG"
   ]
  },
  {
   "cell_type": "code",
   "execution_count": 5,
   "metadata": {},
   "outputs": [],
   "source": [
    "files = ['P1.txt', 'P2.txt', 'P3.txt', 'P4.txt', 'P5.txt', 'P6.txt', 'P7.txt', 'P8.txt', 'P9.txt', 'P10.txt', 'P11.txt', 'P12.txt',\n",
    "          'P13.txt', 'P14.txt', 'P15.txt']"
   ]
  },
  {
   "cell_type": "code",
   "execution_count": 6,
   "metadata": {},
   "outputs": [],
   "source": [
    "def comp_dist(file1, file2):\n",
    "    \n",
    "    files = [open(file1, 'r'), open(file2, 'r')]\n",
    "    pixels = []\n",
    "    for file in files:\n",
    "        rows = []\n",
    "        for row in file:\n",
    "            if row == '\\n':\n",
    "                continue\n",
    "            rows.append([int(x) for x in list(row)[:len(row)-1]])\n",
    "        pixels.append(rows)\n",
    "    pixels = np.array(pixels)\n",
    "    \n",
    "\n",
    "    normalized = []\n",
    "    for m in pixels:\n",
    "        s = 0\n",
    "        for row in m:\n",
    "            s += sum(row)\n",
    "        if s == 80:\n",
    "            normalized.append([i*39 for i in m])\n",
    "        elif s == 39:\n",
    "            normalized.append([i*80 for i in m])\n",
    "    # print(normalized[1])\n",
    "            \n",
    "    G1 = nx.DiGraph()\n",
    "    for i in range(10):\n",
    "        for j in range(80):\n",
    "            G1.add_node(('1', i, j),demand = -normalized[0][i][j])\n",
    "    G2 = nx.DiGraph()\n",
    "    for i in range(10):\n",
    "        for j in range(80):\n",
    "            G2.add_node(('2', i, j),demand = normalized[1][i][j])\n",
    "\n",
    "\n",
    "    gap = nx.compose(G1,G2)\n",
    "    for f in range(10):\n",
    "        for h in range(80):\n",
    "            for j in range(10):\n",
    "                for k in range(80):\n",
    "                    if normalized[0][f][h] != 0 and normalized[1][j][k] != 0:\n",
    "                        gap.add_edge(('1',f,h),('2',j,k),weight = (k - h)%80)\n",
    "                        \n",
    "    return nx.min_cost_flow_cost(gap)\n"
   ]
  },
  {
   "cell_type": "code",
   "execution_count": 8,
   "metadata": {},
   "outputs": [],
   "source": [
    "def sort_files():\n",
    "    dist = {'P1.txt': 0}\n",
    "    for n in range(1, len(files)):\n",
    "        dist[files[n]] = comp_dist(files[0], files[n])\n",
    "        sorted_files = [f for f, s in sorted(dist.items(), key= lambda x: x[1])]\n",
    "    return sorted_files\n"
   ]
  },
  {
   "cell_type": "code",
   "execution_count": 9,
   "metadata": {},
   "outputs": [
    {
     "data": {
      "text/plain": [
       "['P1.txt',\n",
       " 'P2.txt',\n",
       " 'P3.txt',\n",
       " 'P10.txt',\n",
       " 'P4.txt',\n",
       " 'P13.txt',\n",
       " 'P14.txt',\n",
       " 'P9.txt',\n",
       " 'P15.txt',\n",
       " 'P7.txt',\n",
       " 'P12.txt',\n",
       " 'P11.txt',\n",
       " 'P5.txt',\n",
       " 'P6.txt',\n",
       " 'P8.txt']"
      ]
     },
     "execution_count": 9,
     "metadata": {},
     "output_type": "execute_result"
    }
   ],
   "source": [
    "sort_files()"
   ]
  },
  {
   "cell_type": "code",
   "execution_count": 10,
   "metadata": {},
   "outputs": [],
   "source": [
    "dist = {'P1.txt': 0}\n",
    "for n in range(1, len(files)):\n",
    "    dist[n] = {files[n]:comp_dist(files[0], files[n])}\n"
   ]
  },
  {
   "cell_type": "code",
   "execution_count": 11,
   "metadata": {},
   "outputs": [
    {
     "data": {
      "text/plain": [
       "{'P1.txt': 0,\n",
       " 1: {'P2.txt': 6240},\n",
       " 2: {'P3.txt': 43680},\n",
       " 3: {'P4.txt': 62400},\n",
       " 4: {'P5.txt': 174720},\n",
       " 5: {'P6.txt': 187200},\n",
       " 6: {'P7.txt': 124800},\n",
       " 7: {'P8.txt': 221520},\n",
       " 8: {'P9.txt': 78000},\n",
       " 9: {'P10.txt': 46800},\n",
       " 10: {'P11.txt': 152880},\n",
       " 11: {'P12.txt': 137280},\n",
       " 12: {'P13.txt': 65520},\n",
       " 13: {'P14.txt': 68640},\n",
       " 14: {'P15.txt': 91806}}"
      ]
     },
     "execution_count": 11,
     "metadata": {},
     "output_type": "execute_result"
    }
   ],
   "source": [
    "dist"
   ]
  }
 ],
 "metadata": {
  "kernelspec": {
   "display_name": "APOA",
   "language": "python",
   "name": "python3"
  },
  "language_info": {
   "codemirror_mode": {
    "name": "ipython",
    "version": 3
   },
   "file_extension": ".py",
   "mimetype": "text/x-python",
   "name": "python",
   "nbconvert_exporter": "python",
   "pygments_lexer": "ipython3",
   "version": "3.10.9"
  },
  "orig_nbformat": 4,
  "vscode": {
   "interpreter": {
    "hash": "c58d1bd9285ce8f17fa6f190684d1961de00388817a1594337ae0fecbad0895b"
   }
  }
 },
 "nbformat": 4,
 "nbformat_minor": 2
}
